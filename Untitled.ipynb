{
 "cells": [
  {
   "cell_type": "code",
   "execution_count": 26,
   "metadata": {},
   "outputs": [],
   "source": [
    "import pandas as pd\n",
    "import networkx as nx\n",
    "from tqdm import tqdm"
   ]
  },
  {
   "cell_type": "code",
   "execution_count": 8,
   "metadata": {},
   "outputs": [
    {
     "name": "stderr",
     "output_type": "stream",
     "text": [
      "b'Skipping line 7872: expected 7 fields, saw 8\\nSkipping line 11730: expected 7 fields, saw 9\\nSkipping line 14131: expected 7 fields, saw 8\\nSkipping line 58054: expected 7 fields, saw 8\\nSkipping line 58754: expected 7 fields, saw 8\\n'\n",
      "b'Skipping line 847129: expected 7 fields, saw 8\\n'\n",
      "b'Skipping line 1091153: expected 7 fields, saw 8\\nSkipping line 1175375: expected 7 fields, saw 8\\n'\n",
      "b'Skipping line 1225935: expected 7 fields, saw 8\\nSkipping line 1255357: expected 7 fields, saw 8\\nSkipping line 1279671: expected 7 fields, saw 8\\n'\n",
      "b'Skipping line 1330675: expected 7 fields, saw 8\\n'\n",
      "b'Skipping line 1448033: expected 7 fields, saw 8\\nSkipping line 1543893: expected 7 fields, saw 8\\n'\n",
      "b'Skipping line 1579569: expected 7 fields, saw 8\\nSkipping line 1612448: expected 7 fields, saw 8\\n'\n",
      "b'Skipping line 1784588: expected 7 fields, saw 8\\n'\n"
     ]
    }
   ],
   "source": [
    "data= pd.read_csv('jams.tsv',error_bad_lines=False,sep='\\t',encoding='utf-8')"
   ]
  },
  {
   "cell_type": "code",
   "execution_count": 10,
   "metadata": {},
   "outputs": [
    {
     "data": {
      "text/html": [
       "<div>\n",
       "<style>\n",
       "    .dataframe thead tr:only-child th {\n",
       "        text-align: right;\n",
       "    }\n",
       "\n",
       "    .dataframe thead th {\n",
       "        text-align: left;\n",
       "    }\n",
       "\n",
       "    .dataframe tbody tr th {\n",
       "        vertical-align: top;\n",
       "    }\n",
       "</style>\n",
       "<table border=\"1\" class=\"dataframe\">\n",
       "  <thead>\n",
       "    <tr style=\"text-align: right;\">\n",
       "      <th></th>\n",
       "      <th>jam_id</th>\n",
       "      <th>user_id</th>\n",
       "      <th>artist</th>\n",
       "      <th>title</th>\n",
       "      <th>creation_date</th>\n",
       "      <th>link</th>\n",
       "      <th>spotify_uri</th>\n",
       "    </tr>\n",
       "  </thead>\n",
       "  <tbody>\n",
       "    <tr>\n",
       "      <th>0</th>\n",
       "      <td>c2e76bb92c7fa733fdfc9be40bb0e4ea</td>\n",
       "      <td>b99ebf68a8d93f024e56c65e2f949b57</td>\n",
       "      <td>Orange Juice</td>\n",
       "      <td>Rip It Up</td>\n",
       "      <td>2011-08-26</td>\n",
       "      <td>NaN</td>\n",
       "      <td>spotify:track:6AGhDIyDbRonzGTdbIsNXa</td>\n",
       "    </tr>\n",
       "    <tr>\n",
       "      <th>1</th>\n",
       "      <td>5d2bc46196d7903a5580f0dbedc09610</td>\n",
       "      <td>c1066039fa61eede113878259c1222d1</td>\n",
       "      <td>Erkin Koray</td>\n",
       "      <td>Hele Yar</td>\n",
       "      <td>2011-08-26</td>\n",
       "      <td>NaN</td>\n",
       "      <td>NaN</td>\n",
       "    </tr>\n",
       "    <tr>\n",
       "      <th>2</th>\n",
       "      <td>4849f8c893a792032dbc15eb77cfd0cd</td>\n",
       "      <td>d8a96caeef5c7d8dbdc9cec28aa9c044</td>\n",
       "      <td>Stereo</td>\n",
       "      <td>Somewhere In the Night</td>\n",
       "      <td>2011-08-26</td>\n",
       "      <td>NaN</td>\n",
       "      <td>spotify:track:2ZM9sVP0blBj1lNIEg4dgn</td>\n",
       "    </tr>\n",
       "    <tr>\n",
       "      <th>3</th>\n",
       "      <td>8940ff2e8e38c8f1a4676e09d152c0cd</td>\n",
       "      <td>b1c81a51f5286d70e5820ecb85aeba96</td>\n",
       "      <td>The Mills Brothers</td>\n",
       "      <td>I Got Her Off My Hands</td>\n",
       "      <td>2011-08-26</td>\n",
       "      <td>NaN</td>\n",
       "      <td>spotify:track:096elxAmYuyAFJKPLrS5oY</td>\n",
       "    </tr>\n",
       "    <tr>\n",
       "      <th>4</th>\n",
       "      <td>4020b45a4c6d5515a3b62c489e169828</td>\n",
       "      <td>4fdc0257bc476bffd3e73564ecaa75e0</td>\n",
       "      <td>Various</td>\n",
       "      <td>Zum Volksfest</td>\n",
       "      <td>2011-08-26</td>\n",
       "      <td>NaN</td>\n",
       "      <td>NaN</td>\n",
       "    </tr>\n",
       "  </tbody>\n",
       "</table>\n",
       "</div>"
      ],
      "text/plain": [
       "                             jam_id                           user_id  \\\n",
       "0  c2e76bb92c7fa733fdfc9be40bb0e4ea  b99ebf68a8d93f024e56c65e2f949b57   \n",
       "1  5d2bc46196d7903a5580f0dbedc09610  c1066039fa61eede113878259c1222d1   \n",
       "2  4849f8c893a792032dbc15eb77cfd0cd  d8a96caeef5c7d8dbdc9cec28aa9c044   \n",
       "3  8940ff2e8e38c8f1a4676e09d152c0cd  b1c81a51f5286d70e5820ecb85aeba96   \n",
       "4  4020b45a4c6d5515a3b62c489e169828  4fdc0257bc476bffd3e73564ecaa75e0   \n",
       "\n",
       "               artist                   title creation_date link  \\\n",
       "0        Orange Juice               Rip It Up    2011-08-26  NaN   \n",
       "1         Erkin Koray                Hele Yar    2011-08-26  NaN   \n",
       "2              Stereo  Somewhere In the Night    2011-08-26  NaN   \n",
       "3  The Mills Brothers  I Got Her Off My Hands    2011-08-26  NaN   \n",
       "4             Various           Zum Volksfest    2011-08-26  NaN   \n",
       "\n",
       "                            spotify_uri  \n",
       "0  spotify:track:6AGhDIyDbRonzGTdbIsNXa  \n",
       "1                                   NaN  \n",
       "2  spotify:track:2ZM9sVP0blBj1lNIEg4dgn  \n",
       "3  spotify:track:096elxAmYuyAFJKPLrS5oY  \n",
       "4                                   NaN  "
      ]
     },
     "execution_count": 10,
     "metadata": {},
     "output_type": "execute_result"
    }
   ],
   "source": [
    "data.head(5)"
   ]
  },
  {
   "cell_type": "code",
   "execution_count": 11,
   "metadata": {},
   "outputs": [],
   "source": [
    "net = pd.read_csv('followers.tsv',error_bad_lines=False,sep='\\t',encoding='utf-8')"
   ]
  },
  {
   "cell_type": "code",
   "execution_count": 15,
   "metadata": {},
   "outputs": [
    {
     "data": {
      "text/plain": [
       "93562"
      ]
     },
     "execution_count": 15,
     "metadata": {},
     "output_type": "execute_result"
    }
   ],
   "source": [
    "len(net['followed_user_id'].unique())"
   ]
  },
  {
   "cell_type": "code",
   "execution_count": 16,
   "metadata": {},
   "outputs": [
    {
     "data": {
      "text/plain": [
       "89683"
      ]
     },
     "execution_count": 16,
     "metadata": {},
     "output_type": "execute_result"
    }
   ],
   "source": [
    "len(net['follower_user_id'].unique())"
   ]
  },
  {
   "cell_type": "code",
   "execution_count": 18,
   "metadata": {},
   "outputs": [
    {
     "data": {
      "text/plain": [
       "1603404"
      ]
     },
     "execution_count": 18,
     "metadata": {},
     "output_type": "execute_result"
    }
   ],
   "source": [
    "len(net)"
   ]
  },
  {
   "cell_type": "code",
   "execution_count": 19,
   "metadata": {},
   "outputs": [
    {
     "data": {
      "text/html": [
       "<div>\n",
       "<style>\n",
       "    .dataframe thead tr:only-child th {\n",
       "        text-align: right;\n",
       "    }\n",
       "\n",
       "    .dataframe thead th {\n",
       "        text-align: left;\n",
       "    }\n",
       "\n",
       "    .dataframe tbody tr th {\n",
       "        vertical-align: top;\n",
       "    }\n",
       "</style>\n",
       "<table border=\"1\" class=\"dataframe\">\n",
       "  <thead>\n",
       "    <tr style=\"text-align: right;\">\n",
       "      <th></th>\n",
       "      <th>followed_user_id</th>\n",
       "      <th>follower_user_id</th>\n",
       "    </tr>\n",
       "  </thead>\n",
       "  <tbody>\n",
       "    <tr>\n",
       "      <th>0</th>\n",
       "      <td>b99ebf68a8d93f024e56c65e2f949b57</td>\n",
       "      <td>1ebda3c5e05265626ab18401fb33a90a</td>\n",
       "    </tr>\n",
       "    <tr>\n",
       "      <th>1</th>\n",
       "      <td>c1066039fa61eede113878259c1222d1</td>\n",
       "      <td>1ebda3c5e05265626ab18401fb33a90a</td>\n",
       "    </tr>\n",
       "    <tr>\n",
       "      <th>2</th>\n",
       "      <td>d8a96caeef5c7d8dbdc9cec28aa9c044</td>\n",
       "      <td>1ebda3c5e05265626ab18401fb33a90a</td>\n",
       "    </tr>\n",
       "    <tr>\n",
       "      <th>3</th>\n",
       "      <td>2969c319775d884b860a897ba9d6156f</td>\n",
       "      <td>1ebda3c5e05265626ab18401fb33a90a</td>\n",
       "    </tr>\n",
       "    <tr>\n",
       "      <th>4</th>\n",
       "      <td>ff58e67948917e0ff71ba4b33e158365</td>\n",
       "      <td>1ebda3c5e05265626ab18401fb33a90a</td>\n",
       "    </tr>\n",
       "  </tbody>\n",
       "</table>\n",
       "</div>"
      ],
      "text/plain": [
       "                   followed_user_id                  follower_user_id\n",
       "0  b99ebf68a8d93f024e56c65e2f949b57  1ebda3c5e05265626ab18401fb33a90a\n",
       "1  c1066039fa61eede113878259c1222d1  1ebda3c5e05265626ab18401fb33a90a\n",
       "2  d8a96caeef5c7d8dbdc9cec28aa9c044  1ebda3c5e05265626ab18401fb33a90a\n",
       "3  2969c319775d884b860a897ba9d6156f  1ebda3c5e05265626ab18401fb33a90a\n",
       "4  ff58e67948917e0ff71ba4b33e158365  1ebda3c5e05265626ab18401fb33a90a"
      ]
     },
     "execution_count": 19,
     "metadata": {},
     "output_type": "execute_result"
    }
   ],
   "source": [
    "net.head(5)"
   ]
  },
  {
   "cell_type": "code",
   "execution_count": 20,
   "metadata": {},
   "outputs": [],
   "source": [
    "followed=list(net['followed_user_id'].unique())"
   ]
  },
  {
   "cell_type": "code",
   "execution_count": 21,
   "metadata": {},
   "outputs": [],
   "source": [
    "followers=list(net['follower_user_id'].unique())"
   ]
  },
  {
   "cell_type": "code",
   "execution_count": 22,
   "metadata": {},
   "outputs": [],
   "source": [
    "nodes=list(set(followed+followers))"
   ]
  },
  {
   "cell_type": "code",
   "execution_count": 23,
   "metadata": {},
   "outputs": [
    {
     "data": {
      "text/plain": [
       "101273"
      ]
     },
     "execution_count": 23,
     "metadata": {},
     "output_type": "execute_result"
    }
   ],
   "source": [
    "len(nodes)"
   ]
  },
  {
   "cell_type": "code",
   "execution_count": 25,
   "metadata": {},
   "outputs": [],
   "source": [
    "G=nx.Graph()\n",
    "G.add_nodes_from(nodes)"
   ]
  },
  {
   "cell_type": "code",
   "execution_count": 31,
   "metadata": {},
   "outputs": [
    {
     "data": {
      "text/plain": [
       "followed_user_id    b99ebf68a8d93f024e56c65e2f949b57\n",
       "follower_user_id    1ebda3c5e05265626ab18401fb33a90a\n",
       "Name: 0, dtype: object"
      ]
     },
     "execution_count": 31,
     "metadata": {},
     "output_type": "execute_result"
    }
   ],
   "source": [
    "net.iloc[0]"
   ]
  },
  {
   "cell_type": "code",
   "execution_count": 32,
   "metadata": {},
   "outputs": [
    {
     "name": "stderr",
     "output_type": "stream",
     "text": [
      "100%|█████████████████████████████████████████████████████████████████████| 1603404/1603404 [01:37<00:00, 16516.46it/s]\n"
     ]
    }
   ],
   "source": [
    "for i in tqdm(range(len(net))):\n",
    "    G.add_edge(net['followed_user_id'].iloc[i],net['follower_user_id'].iloc[i])"
   ]
  }
 ],
 "metadata": {
  "kernelspec": {
   "display_name": "Python [conda root]",
   "language": "python",
   "name": "conda-root-py"
  },
  "language_info": {
   "codemirror_mode": {
    "name": "ipython",
    "version": 3
   },
   "file_extension": ".py",
   "mimetype": "text/x-python",
   "name": "python",
   "nbconvert_exporter": "python",
   "pygments_lexer": "ipython3",
   "version": "3.6.1"
  }
 },
 "nbformat": 4,
 "nbformat_minor": 2
}
