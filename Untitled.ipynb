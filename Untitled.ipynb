{
 "cells": [
  {
   "cell_type": "code",
   "execution_count": 1,
   "metadata": {},
   "outputs": [],
   "source": [
    "import pandas as pd\n",
    "import networkx as nx\n",
    "import numpy as np\n",
    "from tqdm import tqdm\n",
    "import matplotlib.pyplot as plt\n",
    "%matplotlib inline"
   ]
  },
  {
   "cell_type": "code",
   "execution_count": 2,
   "metadata": {},
   "outputs": [
    {
     "name": "stderr",
     "output_type": "stream",
     "text": [
      "b'Skipping line 58038: expected 7 fields, saw 8\\nSkipping line 58738: expected 7 fields, saw 8\\n'\n",
      "b'Skipping line 847113: expected 7 fields, saw 8\\n'\n",
      "b'Skipping line 1091137: expected 7 fields, saw 8\\nSkipping line 1175359: expected 7 fields, saw 8\\n'\n",
      "b'Skipping line 1225919: expected 7 fields, saw 8\\nSkipping line 1255341: expected 7 fields, saw 8\\nSkipping line 1279655: expected 7 fields, saw 8\\n'\n",
      "b'Skipping line 1330659: expected 7 fields, saw 8\\n'\n",
      "b'Skipping line 1448017: expected 7 fields, saw 8\\nSkipping line 1543877: expected 7 fields, saw 8\\n'\n",
      "b'Skipping line 1579553: expected 7 fields, saw 8\\nSkipping line 1612432: expected 7 fields, saw 8\\n'\n",
      "b'Skipping line 1784572: expected 7 fields, saw 8\\n'\n"
     ]
    }
   ],
   "source": [
    "data= pd.read_csv('archive/jams.tsv',error_bad_lines=False,sep='\\t',encoding='utf-8')"
   ]
  },
  {
   "cell_type": "code",
   "execution_count": 3,
   "metadata": {},
   "outputs": [
    {
     "data": {
      "text/html": [
       "<div>\n",
       "<style scoped>\n",
       "    .dataframe tbody tr th:only-of-type {\n",
       "        vertical-align: middle;\n",
       "    }\n",
       "\n",
       "    .dataframe tbody tr th {\n",
       "        vertical-align: top;\n",
       "    }\n",
       "\n",
       "    .dataframe thead th {\n",
       "        text-align: right;\n",
       "    }\n",
       "</style>\n",
       "<table border=\"1\" class=\"dataframe\">\n",
       "  <thead>\n",
       "    <tr style=\"text-align: right;\">\n",
       "      <th></th>\n",
       "      <th>jam_id</th>\n",
       "      <th>user_id</th>\n",
       "      <th>artist</th>\n",
       "      <th>title</th>\n",
       "      <th>creation_date</th>\n",
       "      <th>link</th>\n",
       "      <th>spotify_uri</th>\n",
       "    </tr>\n",
       "  </thead>\n",
       "  <tbody>\n",
       "    <tr>\n",
       "      <th>0</th>\n",
       "      <td>c2e76bb92c7fa733fdfc9be40bb0e4ea</td>\n",
       "      <td>b99ebf68a8d93f024e56c65e2f949b57</td>\n",
       "      <td>Orange Juice</td>\n",
       "      <td>Rip It Up</td>\n",
       "      <td>2011-08-26</td>\n",
       "      <td>NaN</td>\n",
       "      <td>spotify:track:6AGhDIyDbRonzGTdbIsNXa</td>\n",
       "    </tr>\n",
       "    <tr>\n",
       "      <th>1</th>\n",
       "      <td>5d2bc46196d7903a5580f0dbedc09610</td>\n",
       "      <td>c1066039fa61eede113878259c1222d1</td>\n",
       "      <td>Erkin Koray</td>\n",
       "      <td>Hele Yar</td>\n",
       "      <td>2011-08-26</td>\n",
       "      <td>NaN</td>\n",
       "      <td>NaN</td>\n",
       "    </tr>\n",
       "    <tr>\n",
       "      <th>2</th>\n",
       "      <td>4849f8c893a792032dbc15eb77cfd0cd</td>\n",
       "      <td>d8a96caeef5c7d8dbdc9cec28aa9c044</td>\n",
       "      <td>Stereo</td>\n",
       "      <td>Somewhere In the Night</td>\n",
       "      <td>2011-08-26</td>\n",
       "      <td>NaN</td>\n",
       "      <td>spotify:track:2ZM9sVP0blBj1lNIEg4dgn</td>\n",
       "    </tr>\n",
       "    <tr>\n",
       "      <th>3</th>\n",
       "      <td>8940ff2e8e38c8f1a4676e09d152c0cd</td>\n",
       "      <td>b1c81a51f5286d70e5820ecb85aeba96</td>\n",
       "      <td>The Mills Brothers</td>\n",
       "      <td>I Got Her Off My Hands</td>\n",
       "      <td>2011-08-26</td>\n",
       "      <td>NaN</td>\n",
       "      <td>spotify:track:096elxAmYuyAFJKPLrS5oY</td>\n",
       "    </tr>\n",
       "    <tr>\n",
       "      <th>4</th>\n",
       "      <td>4020b45a4c6d5515a3b62c489e169828</td>\n",
       "      <td>4fdc0257bc476bffd3e73564ecaa75e0</td>\n",
       "      <td>Various</td>\n",
       "      <td>Zum Volksfest</td>\n",
       "      <td>2011-08-26</td>\n",
       "      <td>NaN</td>\n",
       "      <td>NaN</td>\n",
       "    </tr>\n",
       "  </tbody>\n",
       "</table>\n",
       "</div>"
      ],
      "text/plain": [
       "                             jam_id                           user_id  \\\n",
       "0  c2e76bb92c7fa733fdfc9be40bb0e4ea  b99ebf68a8d93f024e56c65e2f949b57   \n",
       "1  5d2bc46196d7903a5580f0dbedc09610  c1066039fa61eede113878259c1222d1   \n",
       "2  4849f8c893a792032dbc15eb77cfd0cd  d8a96caeef5c7d8dbdc9cec28aa9c044   \n",
       "3  8940ff2e8e38c8f1a4676e09d152c0cd  b1c81a51f5286d70e5820ecb85aeba96   \n",
       "4  4020b45a4c6d5515a3b62c489e169828  4fdc0257bc476bffd3e73564ecaa75e0   \n",
       "\n",
       "               artist                   title creation_date link  \\\n",
       "0        Orange Juice               Rip It Up    2011-08-26  NaN   \n",
       "1         Erkin Koray                Hele Yar    2011-08-26  NaN   \n",
       "2              Stereo  Somewhere In the Night    2011-08-26  NaN   \n",
       "3  The Mills Brothers  I Got Her Off My Hands    2011-08-26  NaN   \n",
       "4             Various           Zum Volksfest    2011-08-26  NaN   \n",
       "\n",
       "                            spotify_uri  \n",
       "0  spotify:track:6AGhDIyDbRonzGTdbIsNXa  \n",
       "1                                   NaN  \n",
       "2  spotify:track:2ZM9sVP0blBj1lNIEg4dgn  \n",
       "3  spotify:track:096elxAmYuyAFJKPLrS5oY  \n",
       "4                                   NaN  "
      ]
     },
     "execution_count": 3,
     "metadata": {},
     "output_type": "execute_result"
    }
   ],
   "source": [
    "data.head(5)"
   ]
  },
  {
   "cell_type": "code",
   "execution_count": 4,
   "metadata": {},
   "outputs": [],
   "source": [
    "net = pd.read_csv('archive/followers.tsv',error_bad_lines=False,sep='\\t',encoding='utf-8')"
   ]
  },
  {
   "cell_type": "code",
   "execution_count": 5,
   "metadata": {},
   "outputs": [
    {
     "data": {
      "text/plain": [
       "93562"
      ]
     },
     "execution_count": 5,
     "metadata": {},
     "output_type": "execute_result"
    }
   ],
   "source": [
    "len(net['followed_user_id'].unique())"
   ]
  },
  {
   "cell_type": "code",
   "execution_count": 6,
   "metadata": {},
   "outputs": [
    {
     "data": {
      "text/plain": [
       "89683"
      ]
     },
     "execution_count": 6,
     "metadata": {},
     "output_type": "execute_result"
    }
   ],
   "source": [
    "len(net['follower_user_id'].unique())"
   ]
  },
  {
   "cell_type": "code",
   "execution_count": 7,
   "metadata": {},
   "outputs": [
    {
     "data": {
      "text/plain": [
       "1603404"
      ]
     },
     "execution_count": 7,
     "metadata": {},
     "output_type": "execute_result"
    }
   ],
   "source": [
    "len(net)"
   ]
  },
  {
   "cell_type": "code",
   "execution_count": 8,
   "metadata": {},
   "outputs": [
    {
     "data": {
      "text/html": [
       "<div>\n",
       "<style scoped>\n",
       "    .dataframe tbody tr th:only-of-type {\n",
       "        vertical-align: middle;\n",
       "    }\n",
       "\n",
       "    .dataframe tbody tr th {\n",
       "        vertical-align: top;\n",
       "    }\n",
       "\n",
       "    .dataframe thead th {\n",
       "        text-align: right;\n",
       "    }\n",
       "</style>\n",
       "<table border=\"1\" class=\"dataframe\">\n",
       "  <thead>\n",
       "    <tr style=\"text-align: right;\">\n",
       "      <th></th>\n",
       "      <th>followed_user_id</th>\n",
       "      <th>follower_user_id</th>\n",
       "    </tr>\n",
       "  </thead>\n",
       "  <tbody>\n",
       "    <tr>\n",
       "      <th>0</th>\n",
       "      <td>b99ebf68a8d93f024e56c65e2f949b57</td>\n",
       "      <td>1ebda3c5e05265626ab18401fb33a90a</td>\n",
       "    </tr>\n",
       "    <tr>\n",
       "      <th>1</th>\n",
       "      <td>c1066039fa61eede113878259c1222d1</td>\n",
       "      <td>1ebda3c5e05265626ab18401fb33a90a</td>\n",
       "    </tr>\n",
       "    <tr>\n",
       "      <th>2</th>\n",
       "      <td>d8a96caeef5c7d8dbdc9cec28aa9c044</td>\n",
       "      <td>1ebda3c5e05265626ab18401fb33a90a</td>\n",
       "    </tr>\n",
       "    <tr>\n",
       "      <th>3</th>\n",
       "      <td>2969c319775d884b860a897ba9d6156f</td>\n",
       "      <td>1ebda3c5e05265626ab18401fb33a90a</td>\n",
       "    </tr>\n",
       "    <tr>\n",
       "      <th>4</th>\n",
       "      <td>ff58e67948917e0ff71ba4b33e158365</td>\n",
       "      <td>1ebda3c5e05265626ab18401fb33a90a</td>\n",
       "    </tr>\n",
       "  </tbody>\n",
       "</table>\n",
       "</div>"
      ],
      "text/plain": [
       "                   followed_user_id                  follower_user_id\n",
       "0  b99ebf68a8d93f024e56c65e2f949b57  1ebda3c5e05265626ab18401fb33a90a\n",
       "1  c1066039fa61eede113878259c1222d1  1ebda3c5e05265626ab18401fb33a90a\n",
       "2  d8a96caeef5c7d8dbdc9cec28aa9c044  1ebda3c5e05265626ab18401fb33a90a\n",
       "3  2969c319775d884b860a897ba9d6156f  1ebda3c5e05265626ab18401fb33a90a\n",
       "4  ff58e67948917e0ff71ba4b33e158365  1ebda3c5e05265626ab18401fb33a90a"
      ]
     },
     "execution_count": 8,
     "metadata": {},
     "output_type": "execute_result"
    }
   ],
   "source": [
    "net.head(5)"
   ]
  },
  {
   "cell_type": "code",
   "execution_count": 9,
   "metadata": {},
   "outputs": [],
   "source": [
    "followed=list(net['followed_user_id'].unique())"
   ]
  },
  {
   "cell_type": "code",
   "execution_count": 10,
   "metadata": {},
   "outputs": [],
   "source": [
    "followers=list(net['follower_user_id'].unique())"
   ]
  },
  {
   "cell_type": "code",
   "execution_count": 11,
   "metadata": {},
   "outputs": [],
   "source": [
    "nodes=list(set(followed+followers))"
   ]
  },
  {
   "cell_type": "code",
   "execution_count": 12,
   "metadata": {},
   "outputs": [
    {
     "data": {
      "text/plain": [
       "101273"
      ]
     },
     "execution_count": 12,
     "metadata": {},
     "output_type": "execute_result"
    }
   ],
   "source": [
    "len(nodes)"
   ]
  },
  {
   "cell_type": "code",
   "execution_count": 13,
   "metadata": {},
   "outputs": [],
   "source": [
    "G=nx.Graph()\n",
    "G.add_nodes_from(nodes)"
   ]
  },
  {
   "cell_type": "code",
   "execution_count": 14,
   "metadata": {},
   "outputs": [
    {
     "data": {
      "text/plain": [
       "followed_user_id    b99ebf68a8d93f024e56c65e2f949b57\n",
       "follower_user_id    1ebda3c5e05265626ab18401fb33a90a\n",
       "Name: 0, dtype: object"
      ]
     },
     "execution_count": 14,
     "metadata": {},
     "output_type": "execute_result"
    }
   ],
   "source": [
    "net.iloc[0]"
   ]
  },
  {
   "cell_type": "code",
   "execution_count": 15,
   "metadata": {},
   "outputs": [
    {
     "name": "stderr",
     "output_type": "stream",
     "text": [
      "100%|██████████| 1603404/1603404 [01:39<00:00, 16193.64it/s]\n"
     ]
    }
   ],
   "source": [
    "for i in tqdm(range(len(net))):\n",
    "    G.add_edge(net['followed_user_id'].iloc[i],net['follower_user_id'].iloc[i])"
   ]
  },
  {
   "cell_type": "code",
   "execution_count": 16,
   "metadata": {},
   "outputs": [
    {
     "data": {
      "text/plain": [
       "networkx.classes.reportviews.DegreeView"
      ]
     },
     "execution_count": 16,
     "metadata": {},
     "output_type": "execute_result"
    }
   ],
   "source": [
    "type(nx.degree(G))\n",
    "#degrees = nx.degree(G).values()"
   ]
  },
  {
   "cell_type": "code",
   "execution_count": 17,
   "metadata": {},
   "outputs": [],
   "source": [
    "degrees = np.array(list(dict(nx.degree(G)).values()))"
   ]
  },
  {
   "cell_type": "code",
   "execution_count": 18,
   "metadata": {},
   "outputs": [
    {
     "data": {
      "text/plain": [
       "(array([  1.01250000e+05,   1.70000000e+01,   3.00000000e+00,\n",
       "          1.00000000e+00,   1.00000000e+00,   0.00000000e+00,\n",
       "          0.00000000e+00,   0.00000000e+00,   0.00000000e+00,\n",
       "          1.00000000e+00]),\n",
       " array([  1.00000000e+00,   5.31200000e+03,   1.06230000e+04,\n",
       "          1.59340000e+04,   2.12450000e+04,   2.65560000e+04,\n",
       "          3.18670000e+04,   3.71780000e+04,   4.24890000e+04,\n",
       "          4.78000000e+04,   5.31110000e+04]),\n",
       " <a list of 10 Patch objects>)"
      ]
     },
     "execution_count": 18,
     "metadata": {},
     "output_type": "execute_result"
    },
    {
     "data": {
      "image/png": "[encoded data removed]",
      "text/plain": [
       "<matplotlib.figure.Figure at 0x1470ce4e0>"
      ]
     },
     "metadata": {},
     "output_type": "display_data"
    }
   ],
   "source": [
    "plt.hist(degrees, log=True)"
   ]
  },
  {
   "cell_type": "code",
   "execution_count": 19,
   "metadata": {},
   "outputs": [],
   "source": [
    "small_degrees = degrees[degrees < 50]"
   ]
  },
  {
   "cell_type": "code",
   "execution_count": 20,
   "metadata": {},
   "outputs": [
    {
     "data": {
      "text/plain": [
       "(array([ 43181.,  18964.,  10179.,   6293.,   3746.,   3602.,   2490.,\n",
       "          1908.,   1359.,   1093.]),\n",
       " array([  1. ,   5.8,  10.6,  15.4,  20.2,  25. ,  29.8,  34.6,  39.4,\n",
       "         44.2,  49. ]),\n",
       " <a list of 10 Patch objects>)"
      ]
     },
     "execution_count": 20,
     "metadata": {},
     "output_type": "execute_result"
    },
    {
     "data": {
      "image/png": "[encoded data removed]",
      "text/plain": [
       "<matplotlib.figure.Figure at 0x1237fe080>"
      ]
     },
     "metadata": {},
     "output_type": "display_data"
    }
   ],
   "source": [
    "plt.hist(small_degrees)"
   ]
  },
  {
   "cell_type": "code",
   "execution_count": 21,
   "metadata": {},
   "outputs": [
    {
     "data": {
      "text/plain": [
       "False"
      ]
     },
     "execution_count": 21,
     "metadata": {},
     "output_type": "execute_result"
    }
   ],
   "source": [
    "nx.is_connected(G)"
   ]
  },
  {
   "cell_type": "code",
   "execution_count": 22,
   "metadata": {},
   "outputs": [],
   "source": [
    " Gcc=sorted(nx.connected_component_subgraphs(G), key = len, reverse=True)"
   ]
  },
  {
   "cell_type": "code",
   "execution_count": 59,
   "metadata": {},
   "outputs": [
    {
     "data": {
      "text/plain": [
       "100518"
      ]
     },
     "execution_count": 59,
     "metadata": {},
     "output_type": "execute_result"
    }
   ],
   "source": [
    "len(Gcc[0])"
   ]
  },
  {
   "cell_type": "code",
   "execution_count": 23,
   "metadata": {},
   "outputs": [
    {
     "data": {
      "text/plain": [
       "5"
      ]
     },
     "execution_count": 23,
     "metadata": {},
     "output_type": "execute_result"
    }
   ],
   "source": [
    "len(Gcc[1])"
   ]
  },
  {
   "cell_type": "code",
   "execution_count": 27,
   "metadata": {},
   "outputs": [
    {
     "data": {
      "text/plain": [
       "354"
      ]
     },
     "execution_count": 27,
     "metadata": {},
     "output_type": "execute_result"
    }
   ],
   "source": [
    "len(Gcc)"
   ]
  },
  {
   "cell_type": "code",
   "execution_count": null,
   "metadata": {},
   "outputs": [],
   "source": []
  }
 ],
 "metadata": {
  "kernelspec": {
   "display_name": "Python 3",
   "language": "python",
   "name": "python3"
  },
  "language_info": {
   "codemirror_mode": {
    "name": "ipython",
    "version": 3
   },
   "file_extension": ".py",
   "mimetype": "text/x-python",
   "name": "python",
   "nbconvert_exporter": "python",
   "pygments_lexer": "ipython3",
   "version": "3.5.4"
  }
 },
 "nbformat": 4,
 "nbformat_minor": 2
}
