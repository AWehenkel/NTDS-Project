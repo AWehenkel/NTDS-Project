{
 "cells": [
  {
   "cell_type": "markdown",
   "metadata": {},
   "source": [
    "# This is my jam Project\n",
    "## Description \n",
    "NEED TO DESCRIBE THE DATASET.\n",
    "\n",
    "The initial research questions was initially the following:\n",
    "(1) The project will study the properties of the network built on top of the ”follow” links between users. It will put these properties in perspective with the spread of Jam over time in the network;\n",
    "(2) Considering the features provided by the dataset and possibly supplementary informations provided by the Spotify API, another network explaining at best the spreading of jams over itself will be built. It will be also studied with spectral graph theory;\n",
    "(3) Based on the knowledge of the dataset acquired during the analysis of both graphs, a recommender system for users of the network will be built based on graph theory.\n",
    "\n",
    "However the final result of this project is different. First the study of the spread of Jams started but quickly it has been shown that the greatest number of Jam of a song was very little in comparison with the size of the social network. Although this happenned sufficiently soon during the projet some signal analysis has been tried with these data. Primary analysis of Jams spread over networks is presented in the Data Exploration part. \n",
    "\n",
    "Afterward Spotify API has been used to collect more information about the songs shared, thanks to that it was possible to define a new research question. This question is related to genre of music shared by people over the  social network. More precisely the purpose of the analysis is to look for community in the graph where people tends to have similar taste in term of music genre.\n",
    "\n",
    "Finally using the last research question analysed it has been possible to analyse a predictor of the taste of people based on graph prediction algorithms."
   ]
  },
  {
   "cell_type": "markdown",
   "metadata": {},
   "source": [
    "## Data Acquisition And Data Cleaning\n",
    "In this part we first load and clean the 3 datasets provided by MyJam network. Then we complete these data with Spotify informations."
   ]
  },
  {
   "cell_type": "code",
   "execution_count": 13,
   "metadata": {},
   "outputs": [],
   "source": [
    "%matplotlib inline\n",
    "#importing all relevant packages\n",
    "import pandas as pd\n",
    "import networkx as nx\n",
    "import numpy as np\n",
    "from tqdm import tqdm\n",
    "import matplotlib.pyplot as plt\n",
    "import seaborn as sns\n",
    "from pygsp import graphs, filters, plotting\n",
    "import pickle\n",
    "\n",
    "plt.rcParams['figure.figsize'] = (10, 10)\n",
    "plotting.BACKEND = 'matplotlib'\n",
    "\n",
    "#Setting style for plotting\n",
    "sns.set_style('whitegrid')\n",
    "sns.set_palette('cubehelix',3)"
   ]
  },
  {
   "cell_type": "markdown",
   "metadata": {},
   "source": [
    "First we need to load the data for the project. The data is stored in three tsv files:\n",
    "- jams.tsc: All jams created including some matadata about the jam\n",
    "- followers.tsv: Who follows who\n",
    "- likes.tv: Who has liked which jams\n",
    "\n",
    "To understand and work with this data we will load it into dataframes and do some data cleaning"
   ]
  },
  {
   "cell_type": "code",
   "execution_count": 2,
   "metadata": {},
   "outputs": [
    {
     "name": "stderr",
     "output_type": "stream",
     "text": [
      "b'Skipping line 58038: expected 7 fields, saw 8\\nSkipping line 58738: expected 7 fields, saw 8\\n'\n",
      "b'Skipping line 847113: expected 7 fields, saw 8\\n'\n",
      "b'Skipping line 1091137: expected 7 fields, saw 8\\nSkipping line 1175359: expected 7 fields, saw 8\\n'\n",
      "b'Skipping line 1225919: expected 7 fields, saw 8\\nSkipping line 1255341: expected 7 fields, saw 8\\nSkipping line 1279655: expected 7 fields, saw 8\\n'\n",
      "b'Skipping line 1330659: expected 7 fields, saw 8\\n'\n",
      "b'Skipping line 1448017: expected 7 fields, saw 8\\nSkipping line 1543877: expected 7 fields, saw 8\\n'\n",
      "b'Skipping line 1579553: expected 7 fields, saw 8\\nSkipping line 1612432: expected 7 fields, saw 8\\n'\n",
      "b'Skipping line 1784572: expected 7 fields, saw 8\\n'\n"
     ]
    }
   ],
   "source": [
    "data= pd.read_csv('jams.tsv',error_bad_lines=False,sep='\\t',encoding='utf-8')"
   ]
  },
  {
   "cell_type": "markdown",
   "metadata": {},
   "source": [
    "Importing the data was only possible if we allowed for bad lines to be skipped, however we see that it is less that 20 and are not very concerned with these lines as we assume it will not make a difference in the later analysis. \n",
    "\n",
    "By manually inspecting the raw data it is not difficult to find lines that are being read in a wrong way In parts of the data there are newlines and \\t separators that are not placed correctly. This results in empty lines and lines where the data has been shifted to either side and slip between several lines. In order to figure out how many lines are concerned with these kinds of errors we sort the dataframe on the date and thus all the lines where the format of the field creation_date is not in a date format will appear at the end. We decided to simply remove all these lines so that the ones left are the ones read correctly. It should be noted that most of the information could have been recovered by manually inspecting and removing places with faulty new lines and tabs. However, we decided that it would be too time consuming for the project. It is observed that at maximum a few 100 jams have been removed (that potentially could have been restored) and in comparison with the more than 2.000.000 jams that are part of the analysis, this is very unlikely to have any real influence on the later analysis.\n",
    "\n",
    "Furthermore, it is observed that some song titles and artists are NaN's.This might be due to some fault in the data collection, but could also simply be because it has been possible to create jams without specifying the artist or title and therefore we leave these jams in the dataset.\n",
    "\n",
    "We see that all jam id's are unique and that all lines contain a user id and a creaton date."
   ]
  },
  {
   "cell_type": "code",
   "execution_count": 8,
   "metadata": {},
   "outputs": [
    {
     "data": {
      "text/html": [
       "<div>\n",
       "<style scoped>\n",
       "    .dataframe tbody tr th:only-of-type {\n",
       "        vertical-align: middle;\n",
       "    }\n",
       "\n",
       "    .dataframe tbody tr th {\n",
       "        vertical-align: top;\n",
       "    }\n",
       "\n",
       "    .dataframe thead th {\n",
       "        text-align: right;\n",
       "    }\n",
       "</style>\n",
       "<table border=\"1\" class=\"dataframe\">\n",
       "  <thead>\n",
       "    <tr style=\"text-align: right;\">\n",
       "      <th></th>\n",
       "      <th>jam_id</th>\n",
       "      <th>user_id</th>\n",
       "      <th>artist</th>\n",
       "      <th>title</th>\n",
       "      <th>creation_date</th>\n",
       "      <th>link</th>\n",
       "      <th>spotify_uri</th>\n",
       "    </tr>\n",
       "  </thead>\n",
       "  <tbody>\n",
       "    <tr>\n",
       "      <th>count</th>\n",
       "      <td>2089463</td>\n",
       "      <td>2089463</td>\n",
       "      <td>2088219</td>\n",
       "      <td>2089076</td>\n",
       "      <td>2089463</td>\n",
       "      <td>2072124</td>\n",
       "      <td>1479762</td>\n",
       "    </tr>\n",
       "    <tr>\n",
       "      <th>unique</th>\n",
       "      <td>2089463</td>\n",
       "      <td>132297</td>\n",
       "      <td>240051</td>\n",
       "      <td>568426</td>\n",
       "      <td>1492</td>\n",
       "      <td>950443</td>\n",
       "      <td>401193</td>\n",
       "    </tr>\n",
       "  </tbody>\n",
       "</table>\n",
       "</div>"
      ],
      "text/plain": [
       "         jam_id  user_id   artist    title creation_date     link spotify_uri\n",
       "count   2089463  2089463  2088219  2089076       2089463  2072124     1479762\n",
       "unique  2089463   132297   240051   568426          1492   950443      401193"
      ]
     },
     "execution_count": 8,
     "metadata": {},
     "output_type": "execute_result"
    }
   ],
   "source": [
    "data = data.sort_values(by='creation_date')[0:2090068-605]\n",
    "\n",
    "description = data.describe()\n",
    "description[0:2]"
   ]
  },
  {
   "cell_type": "markdown",
   "metadata": {},
   "source": [
    "The social connections (network) is described by the followint dataframe where all followers are linked to the users they follow. In this dataframe we observe no values that seem faulty."
   ]
  },
  {
   "cell_type": "code",
   "execution_count": 5,
   "metadata": {
    "scrolled": true
   },
   "outputs": [
    {
     "data": {
      "text/html": [
       "<div>\n",
       "<style scoped>\n",
       "    .dataframe tbody tr th:only-of-type {\n",
       "        vertical-align: middle;\n",
       "    }\n",
       "\n",
       "    .dataframe tbody tr th {\n",
       "        vertical-align: top;\n",
       "    }\n",
       "\n",
       "    .dataframe thead th {\n",
       "        text-align: right;\n",
       "    }\n",
       "</style>\n",
       "<table border=\"1\" class=\"dataframe\">\n",
       "  <thead>\n",
       "    <tr style=\"text-align: right;\">\n",
       "      <th></th>\n",
       "      <th>followed_user_id</th>\n",
       "      <th>follower_user_id</th>\n",
       "    </tr>\n",
       "  </thead>\n",
       "  <tbody>\n",
       "    <tr>\n",
       "      <th>0</th>\n",
       "      <td>b99ebf68a8d93f024e56c65e2f949b57</td>\n",
       "      <td>1ebda3c5e05265626ab18401fb33a90a</td>\n",
       "    </tr>\n",
       "    <tr>\n",
       "      <th>1</th>\n",
       "      <td>c1066039fa61eede113878259c1222d1</td>\n",
       "      <td>1ebda3c5e05265626ab18401fb33a90a</td>\n",
       "    </tr>\n",
       "    <tr>\n",
       "      <th>2</th>\n",
       "      <td>d8a96caeef5c7d8dbdc9cec28aa9c044</td>\n",
       "      <td>1ebda3c5e05265626ab18401fb33a90a</td>\n",
       "    </tr>\n",
       "    <tr>\n",
       "      <th>3</th>\n",
       "      <td>2969c319775d884b860a897ba9d6156f</td>\n",
       "      <td>1ebda3c5e05265626ab18401fb33a90a</td>\n",
       "    </tr>\n",
       "    <tr>\n",
       "      <th>4</th>\n",
       "      <td>ff58e67948917e0ff71ba4b33e158365</td>\n",
       "      <td>1ebda3c5e05265626ab18401fb33a90a</td>\n",
       "    </tr>\n",
       "  </tbody>\n",
       "</table>\n",
       "</div>"
      ],
      "text/plain": [
       "                   followed_user_id                  follower_user_id\n",
       "0  b99ebf68a8d93f024e56c65e2f949b57  1ebda3c5e05265626ab18401fb33a90a\n",
       "1  c1066039fa61eede113878259c1222d1  1ebda3c5e05265626ab18401fb33a90a\n",
       "2  d8a96caeef5c7d8dbdc9cec28aa9c044  1ebda3c5e05265626ab18401fb33a90a\n",
       "3  2969c319775d884b860a897ba9d6156f  1ebda3c5e05265626ab18401fb33a90a\n",
       "4  ff58e67948917e0ff71ba4b33e158365  1ebda3c5e05265626ab18401fb33a90a"
      ]
     },
     "execution_count": 5,
     "metadata": {},
     "output_type": "execute_result"
    }
   ],
   "source": [
    "net = pd.read_csv('followers.tsv',error_bad_lines=False,sep='\\t',encoding='utf-8')\n",
    "net.head(5)"
   ]
  },
  {
   "cell_type": "markdown",
   "metadata": {},
   "source": [
    "The last dataframe contains all the likes and thus each user is linked to the jam they liked. This dataframe also seem to contain no faulty values."
   ]
  },
  {
   "cell_type": "code",
   "execution_count": 6,
   "metadata": {},
   "outputs": [
    {
     "data": {
      "text/html": [
       "<div>\n",
       "<style scoped>\n",
       "    .dataframe tbody tr th:only-of-type {\n",
       "        vertical-align: middle;\n",
       "    }\n",
       "\n",
       "    .dataframe tbody tr th {\n",
       "        vertical-align: top;\n",
       "    }\n",
       "\n",
       "    .dataframe thead th {\n",
       "        text-align: right;\n",
       "    }\n",
       "</style>\n",
       "<table border=\"1\" class=\"dataframe\">\n",
       "  <thead>\n",
       "    <tr style=\"text-align: right;\">\n",
       "      <th></th>\n",
       "      <th>user_id</th>\n",
       "      <th>jam_id</th>\n",
       "    </tr>\n",
       "  </thead>\n",
       "  <tbody>\n",
       "    <tr>\n",
       "      <th>0</th>\n",
       "      <td>c1066039fa61eede113878259c1222d1</td>\n",
       "      <td>5d2bc46196d7903a5580f0dbedc09610</td>\n",
       "    </tr>\n",
       "    <tr>\n",
       "      <th>1</th>\n",
       "      <td>b99ebf68a8d93f024e56c65e2f949b57</td>\n",
       "      <td>8940ff2e8e38c8f1a4676e09d152c0cd</td>\n",
       "    </tr>\n",
       "    <tr>\n",
       "      <th>2</th>\n",
       "      <td>c1066039fa61eede113878259c1222d1</td>\n",
       "      <td>4849f8c893a792032dbc15eb77cfd0cd</td>\n",
       "    </tr>\n",
       "    <tr>\n",
       "      <th>3</th>\n",
       "      <td>c1066039fa61eede113878259c1222d1</td>\n",
       "      <td>4020b45a4c6d5515a3b62c489e169828</td>\n",
       "    </tr>\n",
       "    <tr>\n",
       "      <th>4</th>\n",
       "      <td>b99ebf68a8d93f024e56c65e2f949b57</td>\n",
       "      <td>4849f8c893a792032dbc15eb77cfd0cd</td>\n",
       "    </tr>\n",
       "  </tbody>\n",
       "</table>\n",
       "</div>"
      ],
      "text/plain": [
       "                            user_id                            jam_id\n",
       "0  c1066039fa61eede113878259c1222d1  5d2bc46196d7903a5580f0dbedc09610\n",
       "1  b99ebf68a8d93f024e56c65e2f949b57  8940ff2e8e38c8f1a4676e09d152c0cd\n",
       "2  c1066039fa61eede113878259c1222d1  4849f8c893a792032dbc15eb77cfd0cd\n",
       "3  c1066039fa61eede113878259c1222d1  4020b45a4c6d5515a3b62c489e169828\n",
       "4  b99ebf68a8d93f024e56c65e2f949b57  4849f8c893a792032dbc15eb77cfd0cd"
      ]
     },
     "execution_count": 6,
     "metadata": {},
     "output_type": "execute_result"
    }
   ],
   "source": [
    "likes = pd.read_csv('likes.tsv',error_bad_lines=False,sep='\\t',encoding='utf-8')\n",
    "likes.head()"
   ]
  },
  {
   "cell_type": "markdown",
   "metadata": {},
   "source": [
    "Spotify API scraping and creation of one df which contains everything needed for the data exploration about jams."
   ]
  },
  {
   "cell_type": "markdown",
   "metadata": {},
   "source": [
    "## Data Exploration\n",
    "\n",
    "### Jams' features main properties study"
   ]
  },
  {
   "cell_type": "markdown",
   "metadata": {},
   "source": [
    "### Graph properties analysis of the natural social networks (Unweighted and weighted)\n",
    "\n",
    "#### Unweighted social network"
   ]
  },
  {
   "cell_type": "code",
   "execution_count": 9,
   "metadata": {},
   "outputs": [
    {
     "name": "stderr",
     "output_type": "stream",
     "text": [
      "100%|██████████| 1603404/1603404 [03:08<00:00, 8493.83it/s]\n"
     ]
    }
   ],
   "source": [
    "followed = list(net['followed_user_id'].unique())\n",
    "followers = list(net['follower_user_id'].unique())\n",
    "\n",
    "nodes = list(set(followed+followers))\n",
    "\n",
    "#creating the network with nodes\n",
    "G = nx.Graph()\n",
    "G.add_nodes_from(nodes)\n",
    "\n",
    "#adding all edges\n",
    "for i in tqdm(range(len(net))):\n",
    "    if net['followed_user_id'].iloc[i] != net['follower_user_id'].iloc[i]:\n",
    "        G.add_edge(net['followed_user_id'].iloc[i],net['follower_user_id'].iloc[i],weight=1)"
   ]
  },
  {
   "cell_type": "markdown",
   "metadata": {},
   "source": [
    "There we should put some graph properties analysis(similar to what was done in the homeworks) - closer look at the number of components etc."
   ]
  },
  {
   "cell_type": "markdown",
   "metadata": {},
   "source": [
    "Since we need to work with a connected graph for the signal processing, we chose the largest connected component.\n",
    "\n"
   ]
  },
  {
   "cell_type": "code",
   "execution_count": 10,
   "metadata": {},
   "outputs": [
    {
     "data": {
      "text/plain": [
       "False"
      ]
     },
     "execution_count": 10,
     "metadata": {},
     "output_type": "execute_result"
    }
   ],
   "source": [
    "nx.is_connected(G)"
   ]
  },
  {
   "cell_type": "code",
   "execution_count": 11,
   "metadata": {},
   "outputs": [],
   "source": [
    "#Here we will keep the greatest component Gcc[0] for the further analysis\n",
    "Gcc=sorted(nx.connected_component_subgraphs(G), key = len, reverse=True)\n",
    "G = Gcc[0]"
   ]
  },
  {
   "cell_type": "code",
   "execution_count": 12,
   "metadata": {
    "scrolled": false
   },
   "outputs": [
    {
     "name": "stdout",
     "output_type": "stream",
     "text": [
      "The unweigted network G has 101273 nodes.\n",
      "The unweigted network G has 1294588 edges.\n",
      "The nodes in G has an average degree of 25.57.\n"
     ]
    },
    {
     "data": {
      "image/png": "[encoded data removed]",
      "text/plain": [
       "<matplotlib.figure.Figure at 0x1101100f0>"
      ]
     },
     "metadata": {},
     "output_type": "display_data"
    }
   ],
   "source": [
    "print('The unweigted network G has {} nodes.'.format(len(G.nodes())))\n",
    "print('The unweigted network G has {} edges.'.format(G.size()))\n",
    "print('The nodes in G has an average degree of {0:.2f}.'.format(sum(list(dict(nx.degree(G)).values()))/len(G.nodes())))\n",
    "\n",
    "fig = plt.figure(1,figsize=(15,10))\n",
    "\n",
    "#plotting degree distribution\n",
    "degrees = np.array(list(dict(nx.degree(G)).values()))\n",
    "plt.subplot(221)\n",
    "plt.hist(degrees, log=True);\n",
    "plt.title('Degree distribution for G');\n",
    "plt.xlabel('Degree');\n",
    "\n",
    "#plotting distribution for small degrees\n",
    "small_degrees = degrees[degrees < 50]\n",
    "plt.subplot(222)\n",
    "plt.hist(small_degrees);\n",
    "plt.title('Small degree distribution for G');\n",
    "plt.xlabel('Degree');"
   ]
  },
  {
   "cell_type": "markdown",
   "metadata": {},
   "source": [
    "Now we will try to detect communities in the network. If there are we will then try to analyze if communities share same music taste."
   ]
  },
  {
   "cell_type": "code",
   "execution_count": null,
   "metadata": {},
   "outputs": [],
   "source": [
    "comms = nx.algorithms.community.asyn_lpa_communities(G)"
   ]
  },
  {
   "cell_type": "markdown",
   "metadata": {},
   "source": [
    "#### Weighted social network"
   ]
  },
  {
   "cell_type": "code",
   "execution_count": null,
   "metadata": {},
   "outputs": [],
   "source": [
    "merge = likes.merge(data[['jam_id','user_id']],on='jam_id')\n",
    "groups = merge.groupby(['user_id_x','user_id_y']).count()\n",
    "groups.sort_values(by='jam_id',ascending=False).head()"
   ]
  },
  {
   "cell_type": "markdown",
   "metadata": {},
   "source": [
    "### Jams spread over time in different networks.\n",
    "\n",
    "Put what is in the other notebook and comment on the result and the reason why we decided to change our research question."
   ]
  },
  {
   "cell_type": "markdown",
   "metadata": {},
   "source": [
    "### Genre of songs community in different networks."
   ]
  },
  {
   "cell_type": "code",
   "execution_count": 46,
   "metadata": {},
   "outputs": [
    {
     "name": "stderr",
     "output_type": "stream",
     "text": [
      "100%|██████████| 68620/68620 [00:01<00:00, 40470.16it/s]\n"
     ]
    }
   ],
   "source": [
    "#pickle.load('pickles/artists_ntds.pkl')\n",
    "artist = pickle.load( open( \"pickles/artists_ntds.pkl\", \"rb\" ) )\n",
    "#artist.artist_genres.astype(str, inplace=True)\n",
    "all_genre = set()\n",
    "genre_graph = nx.Graph()\n",
    "for genre in artist.artist_genres.values:\n",
    "    all_genre = all_genre.union(set(genre))\n",
    "all_genre = list(all_genre)\n",
    "genre_graph = nx.Graph()\n",
    "genre_graph.add_nodes_from(all_genre)\n",
    "for genres in tqdm(artist.artist_genres.values):\n",
    "    for i in range(len(genres)):\n",
    "        for j in range(i + 1, len(genres)):\n",
    "            if genre_graph.has_edge(genres[i], genres[j]):\n",
    "                genre_graph[genres[i]][genres[j]]['weight'] += 1\n",
    "            else:\n",
    "                genre_graph.add_edge(genres[i], genres[j], weight=1)\n"
   ]
  },
  {
   "cell_type": "code",
   "execution_count": 38,
   "metadata": {
    "scrolled": true
   },
   "outputs": [
    {
     "name": "stdout",
     "output_type": "stream",
     "text": [
      "<class 'numpy.matrixlib.defmatrix.matrix'>\n",
      "[[1836    1   27 ...,    2    4    5]]\n"
     ]
    },
    {
     "data": {
      "image/png": "[encoded data removed]",
      "text/plain": [
       "<matplotlib.figure.Figure at 0x1643eed30>"
      ]
     },
     "metadata": {},
     "output_type": "display_data"
    }
   ],
   "source": [
    "plt.figure(figsize=(10,10))\n",
    "weights = nx.adjacency_matrix(genre_graph).todense()\n",
    "print(type(weights))\n",
    "NEIGHBORS = 5\n",
    "# Find sorted indices for each row\n",
    "sorted_row_idx = np.argsort(weights, axis=1)\n",
    "for row in range(len(sorted_row_idx)):\n",
    "    weights[row, sorted_row_idx[row, :-NEIGHBORS]] = 0\n",
    "plt.spy(weights,markersize=1);\n",
    "\n",
    "if np.sum(np.abs(weights-weights.transpose())) != 0:\n",
    "    # Make W is symmetric\n",
    "    bigger = weights.transpose() > weights\n",
    "    weights = weights - weights*bigger + weights.transpose()*bigger\n"
   ]
  },
  {
   "cell_type": "code",
   "execution_count": 48,
   "metadata": {},
   "outputs": [
    {
     "name": "stderr",
     "output_type": "stream",
     "text": [
      "100%|██████████| 1513/1513 [00:12<00:00, 124.24it/s]\n",
      "100%|██████████| 68620/68620 [03:58<00:00, 287.12it/s]\n"
     ]
    },
    {
     "data": {
      "text/plain": [
       "Index(['artist_id', 'artist_genres', 'gangster rap', 'anime score',\n",
       "       'bossa nova', 'rap metal', 'indian rock', 'spanish hip hop',\n",
       "       'world meditation', 'halloween',\n",
       "       ...\n",
       "       'twee pop', 'russian rock', 'hip pop', 'blackgaze', 'hungarian pop',\n",
       "       'kabarett', 'gothic post-punk', 'new jack swing', 'hard minimal techno',\n",
       "       'hip hop'],\n",
       "      dtype='object', length=1515)"
      ]
     },
     "execution_count": 48,
     "metadata": {},
     "output_type": "execute_result"
    }
   ],
   "source": [
    "artist = pickle.load( open( \"pickles/artists_ntds.pkl\", \"rb\" ) )\n",
    "genre_graph = nx.Graph()\n",
    "all_genres = artist.artist_genres.values\n",
    "\n",
    "for genre in tqdm(all_genre):\n",
    "    artist[genre] = 0\n",
    "\n",
    "for i in tqdm(range(len(all_genres))):\n",
    "    genres = all_genres[i]\n",
    "    artist.loc[i, genres] = 1\n",
    "\n",
    "artist.columns"
   ]
  },
  {
   "cell_type": "code",
   "execution_count": 51,
   "metadata": {
    "scrolled": true
   },
   "outputs": [
    {
     "data": {
      "text/html": [
       "<div>\n",
       "<style scoped>\n",
       "    .dataframe tbody tr th:only-of-type {\n",
       "        vertical-align: middle;\n",
       "    }\n",
       "\n",
       "    .dataframe tbody tr th {\n",
       "        vertical-align: top;\n",
       "    }\n",
       "\n",
       "    .dataframe thead th {\n",
       "        text-align: right;\n",
       "    }\n",
       "</style>\n",
       "<table border=\"1\" class=\"dataframe\">\n",
       "  <thead>\n",
       "    <tr style=\"text-align: right;\">\n",
       "      <th></th>\n",
       "      <th>0</th>\n",
       "      <th>1</th>\n",
       "      <th>2</th>\n",
       "      <th>3</th>\n",
       "      <th>4</th>\n",
       "      <th>5</th>\n",
       "      <th>6</th>\n",
       "      <th>7</th>\n",
       "      <th>8</th>\n",
       "      <th>9</th>\n",
       "      <th>...</th>\n",
       "      <th>68610</th>\n",
       "      <th>68611</th>\n",
       "      <th>68612</th>\n",
       "      <th>68613</th>\n",
       "      <th>68614</th>\n",
       "      <th>68615</th>\n",
       "      <th>68616</th>\n",
       "      <th>68617</th>\n",
       "      <th>68618</th>\n",
       "      <th>68619</th>\n",
       "    </tr>\n",
       "  </thead>\n",
       "  <tbody>\n",
       "    <tr>\n",
       "      <th>gangster rap</th>\n",
       "      <td>0</td>\n",
       "      <td>0</td>\n",
       "      <td>0</td>\n",
       "      <td>0</td>\n",
       "      <td>0</td>\n",
       "      <td>0</td>\n",
       "      <td>0</td>\n",
       "      <td>0</td>\n",
       "      <td>0</td>\n",
       "      <td>0</td>\n",
       "      <td>...</td>\n",
       "      <td>0</td>\n",
       "      <td>0</td>\n",
       "      <td>0</td>\n",
       "      <td>0</td>\n",
       "      <td>0</td>\n",
       "      <td>0</td>\n",
       "      <td>0</td>\n",
       "      <td>0</td>\n",
       "      <td>0</td>\n",
       "      <td>0</td>\n",
       "    </tr>\n",
       "    <tr>\n",
       "      <th>anime score</th>\n",
       "      <td>0</td>\n",
       "      <td>0</td>\n",
       "      <td>0</td>\n",
       "      <td>0</td>\n",
       "      <td>0</td>\n",
       "      <td>0</td>\n",
       "      <td>0</td>\n",
       "      <td>0</td>\n",
       "      <td>0</td>\n",
       "      <td>0</td>\n",
       "      <td>...</td>\n",
       "      <td>0</td>\n",
       "      <td>0</td>\n",
       "      <td>0</td>\n",
       "      <td>0</td>\n",
       "      <td>0</td>\n",
       "      <td>0</td>\n",
       "      <td>0</td>\n",
       "      <td>0</td>\n",
       "      <td>0</td>\n",
       "      <td>0</td>\n",
       "    </tr>\n",
       "    <tr>\n",
       "      <th>bossa nova</th>\n",
       "      <td>0</td>\n",
       "      <td>0</td>\n",
       "      <td>0</td>\n",
       "      <td>0</td>\n",
       "      <td>0</td>\n",
       "      <td>0</td>\n",
       "      <td>0</td>\n",
       "      <td>0</td>\n",
       "      <td>0</td>\n",
       "      <td>0</td>\n",
       "      <td>...</td>\n",
       "      <td>0</td>\n",
       "      <td>0</td>\n",
       "      <td>0</td>\n",
       "      <td>0</td>\n",
       "      <td>0</td>\n",
       "      <td>0</td>\n",
       "      <td>0</td>\n",
       "      <td>0</td>\n",
       "      <td>0</td>\n",
       "      <td>0</td>\n",
       "    </tr>\n",
       "    <tr>\n",
       "      <th>rap metal</th>\n",
       "      <td>0</td>\n",
       "      <td>0</td>\n",
       "      <td>0</td>\n",
       "      <td>0</td>\n",
       "      <td>0</td>\n",
       "      <td>0</td>\n",
       "      <td>0</td>\n",
       "      <td>0</td>\n",
       "      <td>0</td>\n",
       "      <td>0</td>\n",
       "      <td>...</td>\n",
       "      <td>0</td>\n",
       "      <td>0</td>\n",
       "      <td>0</td>\n",
       "      <td>0</td>\n",
       "      <td>0</td>\n",
       "      <td>0</td>\n",
       "      <td>0</td>\n",
       "      <td>0</td>\n",
       "      <td>0</td>\n",
       "      <td>0</td>\n",
       "    </tr>\n",
       "    <tr>\n",
       "      <th>indian rock</th>\n",
       "      <td>0</td>\n",
       "      <td>0</td>\n",
       "      <td>0</td>\n",
       "      <td>0</td>\n",
       "      <td>0</td>\n",
       "      <td>0</td>\n",
       "      <td>0</td>\n",
       "      <td>0</td>\n",
       "      <td>0</td>\n",
       "      <td>0</td>\n",
       "      <td>...</td>\n",
       "      <td>0</td>\n",
       "      <td>0</td>\n",
       "      <td>0</td>\n",
       "      <td>0</td>\n",
       "      <td>0</td>\n",
       "      <td>0</td>\n",
       "      <td>0</td>\n",
       "      <td>0</td>\n",
       "      <td>0</td>\n",
       "      <td>0</td>\n",
       "    </tr>\n",
       "  </tbody>\n",
       "</table>\n",
       "<p>5 rows × 68620 columns</p>\n",
       "</div>"
      ],
      "text/plain": [
       "              0      1      2      3      4      5      6      7      8      \\\n",
       "gangster rap      0      0      0      0      0      0      0      0      0   \n",
       "anime score       0      0      0      0      0      0      0      0      0   \n",
       "bossa nova        0      0      0      0      0      0      0      0      0   \n",
       "rap metal         0      0      0      0      0      0      0      0      0   \n",
       "indian rock       0      0      0      0      0      0      0      0      0   \n",
       "\n",
       "              9      ...    68610  68611  68612  68613  68614  68615  68616  \\\n",
       "gangster rap      0  ...        0      0      0      0      0      0      0   \n",
       "anime score       0  ...        0      0      0      0      0      0      0   \n",
       "bossa nova        0  ...        0      0      0      0      0      0      0   \n",
       "rap metal         0  ...        0      0      0      0      0      0      0   \n",
       "indian rock       0  ...        0      0      0      0      0      0      0   \n",
       "\n",
       "              68617  68618  68619  \n",
       "gangster rap      0      0      0  \n",
       "anime score       0      0      0  \n",
       "bossa nova        0      0      0  \n",
       "rap metal         0      0      0  \n",
       "indian rock       0      0      0  \n",
       "\n",
       "[5 rows x 68620 columns]"
      ]
     },
     "execution_count": 51,
     "metadata": {},
     "output_type": "execute_result"
    }
   ],
   "source": [
    "genres_feature = artist.loc[:, artist.columns[2:]]\n",
    "genre_f = genres_feature.transpose()\n",
    "genre_f.head()"
   ]
  },
  {
   "cell_type": "code",
   "execution_count": 62,
   "metadata": {},
   "outputs": [],
   "source": [
    "from sklearn.cluster import KMeans\n",
    "distances = []\n",
    "for nb_cluster in range(1, 10):\n",
    "    kmeans = KMeans(n_clusters=nb_cluster, random_state=0, n_jobs=5).fit(genre_f)\n",
    "    distances.append(kmeans.inertia_)\n"
   ]
  },
  {
   "cell_type": "code",
   "execution_count": 65,
   "metadata": {
    "scrolled": true
   },
   "outputs": [
    {
     "name": "stdout",
     "output_type": "stream",
     "text": [
      "11\n",
      "12\n",
      "13\n",
      "14\n",
      "15\n",
      "16\n",
      "17\n",
      "18\n",
      "19\n"
     ]
    }
   ],
   "source": [
    "for nb_cluster in range(11, 20):\n",
    "    print(nb_cluster)\n",
    "    kmeans = KMeans(n_clusters=nb_cluster, random_state=0, n_jobs=5).fit(genre_f)\n",
    "    distances.append(kmeans.inertia_)"
   ]
  },
  {
   "cell_type": "code",
   "execution_count": 69,
   "metadata": {},
   "outputs": [
    {
     "name": "stdout",
     "output_type": "stream",
     "text": [
      "[1, 2, 3, 4, 5, 6, 7, 8, 9, 11, 12, 13, 14, 15, 16, 17, 18, 19]\n"
     ]
    },
    {
     "data": {
      "text/plain": [
       "[<matplotlib.lines.Line2D at 0x1613e3b38>]"
      ]
     },
     "execution_count": 69,
     "metadata": {},
     "output_type": "execute_result"
    },
    {
     "data": {
      "image/png": "[encoded data removed]",
      "text/plain": [
       "<matplotlib.figure.Figure at 0x1616ea240>"
      ]
     },
     "metadata": {},
     "output_type": "display_data"
    }
   ],
   "source": [
    "a = list(range(1, 10))\n",
    "a += list(range(11, 20))\n",
    "print(a)\n",
    "plt.plot(a, distances)"
   ]
  },
  {
   "cell_type": "markdown",
   "metadata": {},
   "source": [
    "## Data Exploitation"
   ]
  },
  {
   "cell_type": "markdown",
   "metadata": {},
   "source": [
    "## Conclusion"
   ]
  },
  {
   "cell_type": "code",
   "execution_count": null,
   "metadata": {},
   "outputs": [],
   "source": []
  }
 ],
 "metadata": {
  "kernelspec": {
   "display_name": "Python 3",
   "language": "python",
   "name": "python3"
  },
  "language_info": {
   "codemirror_mode": {
    "name": "ipython",
    "version": 3
   },
   "file_extension": ".py",
   "mimetype": "text/x-python",
   "name": "python",
   "nbconvert_exporter": "python",
   "pygments_lexer": "ipython3",
   "version": "3.5.4"
  }
 },
 "nbformat": 4,
 "nbformat_minor": 2
}
